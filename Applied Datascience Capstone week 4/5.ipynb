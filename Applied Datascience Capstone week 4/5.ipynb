{
  "cells": [
    {
      "metadata": {
        "trusted": true
      },
      "cell_type": "code",
      "source": "# Installs\n!conda install -c conda-forge geopandas --yes #GeoPandas library to create dataframes with geo-information\n!conda install -c conda-forge geopy --yes #Geolocation library\n!conda install -c conda-forge geocoder --yes #Geolocation library\n!conda install -c conda-forge folium=0.5.0 --yes #Mapping library\n!conda install -c conda-forge owslib --yes #Library to read WFS data",
      "execution_count": null,
      "outputs": []
    },
    {
      "metadata": {
        "trusted": true
      },
      "cell_type": "code",
      "source": "# Imports\nimport numpy as np # library to handle data in a vectorized manner\nimport pandas as pd # library for data analsysis\npd.set_option('display.max_columns', None)\npd.set_option('display.max_rows', None)\nimport geopandas as gpd # librabry for GeoPandas\n\nimport json # library to handle JSON files\n\nfrom zipfile import ZipFile # library for handling ZIP files\n\nfrom geopy.geocoders import Nominatim # convert an address into latitude and longitude values\nimport geocoder\n\nimport requests # library to handle requests\nfrom requests import Request\n\nfrom pandas.io.json import json_normalize # tranform JSON file into a pandas dataframe\n\n# Matplotlib and associated plotting modules\nimport matplotlib.cm as cm\nimport matplotlib.colors as colors\n\n# import k-means from clustering stage\nfrom sklearn.cluster import KMeans\n\nimport folium # map rendering library\nfrom folium import plugins\n\nfrom owslib.wfs import WebFeatureService #Library for reading WFS data\n\nprint('Libraries imported.')",
      "execution_count": 11,
      "outputs": [
        {
          "output_type": "stream",
          "text": "Libraries imported.\n",
          "name": "stdout"
        }
      ]
    },
    {
      "metadata": {},
      "cell_type": "markdown",
      "source": "### Download Dutch area geolocation and demographic data based on postal code"
    },
    {
      "metadata": {},
      "cell_type": "markdown",
      "source": "Dutch postal codes have 6 positions: four digits followed by two letters. The four digits are the best Dutch proxy of neighbourhoods.\n\nGeolocation data sets for the four digits postal code can amongst others be found at PDOK (Public Services On the Map). PDOK is a platform for accessing geo data sets from Dutch governments. This is current and reliable data for both the public and private sectors. PDOK makes digital geo-information available as data services and files. The PDOK services are based on open data and are therefore freely available to everyone.\n\nPDOK publishes datasets with Dutch postal codes geolocation, together with Dutch demographic data from the Dutch Central Bureau of Statistics (CBS).\n\nSee https://www.pdok.nl/-/publicatie-cbs-gegevens-naar-postcode"
    },
    {
      "metadata": {
        "trusted": true
      },
      "cell_type": "code",
      "source": "# URL for WFS backend\nurl = \"https://geodata.nationaalgeoregister.nl/cbspostcode4/wfs\"\n\n# Initialize\nwfs = WebFeatureService(url=url)\n\n# Service provider \nprint('Dataset identification title:', wfs.identification.title, '\\n')\n\n# Get WFS version\nprint('Dataset WFS version:', wfs.version, '\\n')\n\n# Available methods\nprint('Available methods:',[operation.name for operation in wfs.operations], '\\n')\n\n# Available data layers\nprint('Available data layers:',list(wfs.contents), '\\n')\n\n# Print all metadata of all layers\nprint('Metadata:')\nfor layer, meta in wfs.items():\n    print(meta.__dict__, '\\n')",
      "execution_count": 9,
      "outputs": [
        {
          "output_type": "stream",
          "text": "Dataset identification title: CBS Postcodes4 \n\nDataset WFS version: 1.0.0 \n\nAvailable methods: ['GetCapabilities', 'DescribeFeatureType', 'GetFeature'] \n\nAvailable data layers: ['cbspostcode4:postcode42015', 'cbspostcode4:postcode42017', 'cbspostcode4:postcode42016'] \n\nMetadata:\n{'abstract': 'Gegevens per numeriek deel van de postcode voor het jaar 2015', 'metadataUrls': [], 'id': 'cbspostcode4:postcode42015', 'verbOptions': ['{http://www.opengis.net/wfs}Query'], 'keywords': ['CBS, postcode, inwoner, man, vrouw, leeftijd, herkomst, allochtoon, inkomen, ww, bijstand, woning, huur, voorziening, nabijheid, dichtheid'], 'title': 'Postcode 2015, numeriek deel', 'boundingBox': (2.938747595140137, 50.56846156575199, 7.578926097286145, 53.62701798435816, urn:ogc:def:crs:EPSG::28992), 'styles': None, 'timepositions': None, 'auth': <Authentication shared=False username=None password=None cert=None verify=True>, 'boundingBoxWGS84': (3.313578145224139, 47.975220611697736, 3.313639050016488, 47.97524922794849), 'defaulttimeposition': None, 'crsOptions': [urn:ogc:def:crs:EPSG::28992]} \n\n{'abstract': 'Gegevens per numeriek deel van de postcode voor het jaar 2017', 'metadataUrls': [], 'id': 'cbspostcode4:postcode42017', 'verbOptions': ['{http://www.opengis.net/wfs}Query'], 'keywords': ['CBS, postcode, inwoner, man, vrouw, leeftijd, herkomst, allochtoon, inkomen, ww, bijstand, woning, huur, voorziening, nabijheid, dichtheid'], 'title': 'Postcode 2017, numeriek deel', 'boundingBox': (2.938747595140137, 50.56846156575199, 7.578926097286145, 53.62701798435816, urn:ogc:def:crs:EPSG::28992), 'styles': None, 'timepositions': None, 'auth': <Authentication shared=False username=None password=None cert=None verify=True>, 'boundingBoxWGS84': (3.313578145224139, 47.975220611697736, 3.313639050016488, 47.97524922794849), 'defaulttimeposition': None, 'crsOptions': [urn:ogc:def:crs:EPSG::28992]} \n\n{'abstract': 'Gegevens per numeriek deel van de postcode voor het jaar 2016', 'metadataUrls': [], 'id': 'cbspostcode4:postcode42016', 'verbOptions': ['{http://www.opengis.net/wfs}Query'], 'keywords': ['CBS, postcode, inwoner, man, vrouw, leeftijd, herkomst, allochtoon, inkomen, ww, bijstand, woning, huur, voorziening, nabijheid, dichtheid'], 'title': 'Postcode 2016, numeriek deel', 'boundingBox': (2.938747595140137, 50.56846156575199, 7.578926097286145, 53.62701798435816, urn:ogc:def:crs:EPSG::28992), 'styles': None, 'timepositions': None, 'auth': <Authentication shared=False username=None password=None cert=None verify=True>, 'boundingBoxWGS84': (3.313578145224139, 47.975220611697736, 3.313639050016488, 47.97524922794849), 'defaulttimeposition': None, 'crsOptions': [urn:ogc:def:crs:EPSG::28992]} \n\n",
          "name": "stdout"
        }
      ]
    },
    {
      "metadata": {
        "trusted": true
      },
      "cell_type": "code",
      "source": "# Get data from WFS\n\n# Fetch the last available year, which is 2017. See available layers in output above\nlayer = 'cbspostcode4:postcode42017'\n\n# Specify the parameters for fetching the data\nparams = dict(service='WFS', version=wfs.version, request='GetFeature',\n      typeName=layer, outputFormat='json')\n\n# Parse the URL with parameters\nq = Request('GET', url, params=params).prepare().url\n\n# Read data from URL\npc4geo = gpd.read_file(q)\n\n#Explore first lines\npc4geo.head()",
      "execution_count": 12,
      "outputs": [
        {
          "output_type": "execute_result",
          "execution_count": 12,
          "data": {
            "text/html": "<div>\n<table border=\"1\" class=\"dataframe\">\n  <thead>\n    <tr style=\"text-align: right;\">\n      <th></th>\n      <th>id</th>\n      <th>postcode</th>\n      <th>aantal_inwoners</th>\n      <th>aantal_mannen</th>\n      <th>aantal_vrouwen</th>\n      <th>aantal_inwoners_0_tot_15_jaar</th>\n      <th>aantal_inwoners_15_tot_25_jaar</th>\n      <th>aantal_inwoners_25_tot_45_jaar</th>\n      <th>aantal_inwoners_45_tot_65_jaar</th>\n      <th>aantal_inwoners_65_jaar_en_ouder</th>\n      <th>aantal_part_huishoudens</th>\n      <th>gemiddelde_huishoudensgrootte</th>\n      <th>aantal_eenpersoonshuishoudens</th>\n      <th>aantal_meerpersoonshuishoudens_zonder_kind</th>\n      <th>aantal_eenouderhuishoudens</th>\n      <th>aantal_tweeouderhuishoudens</th>\n      <th>aantal_geboorten</th>\n      <th>percentage_autochtonen</th>\n      <th>percentage_westerse_allochtonen</th>\n      <th>percentage_niet_westerse_allochtonen</th>\n      <th>aantal_woningen</th>\n      <th>aantal_woningen_bouwjaar_voor_1945</th>\n      <th>aantal_woningen_bouwjaar_45_tot_65</th>\n      <th>aantal_woningen_bouwjaar_65_tot_75</th>\n      <th>aantal_woningen_bouwjaar_75_tot_85</th>\n      <th>aantal_woningen_bouwjaar_85_tot_95</th>\n      <th>aantal_woningen_bouwjaar_95_tot_05</th>\n      <th>aantal_woningen_bouwjaar_05_tot_15</th>\n      <th>aantal_woningen_bouwjaar_15_en_later</th>\n      <th>aantal_meergezins_woningen</th>\n      <th>gemiddeld_gasverbruik_woning</th>\n      <th>gemiddeld_elektricteitsverbruik_woning</th>\n      <th>aantal_personen_met_uitkering_onder_aowlft</th>\n      <th>omgevingsadressendichtheid</th>\n      <th>stedelijkheid</th>\n      <th>geometry</th>\n    </tr>\n  </thead>\n  <tbody>\n    <tr>\n      <th>0</th>\n      <td>postcode42017.1</td>\n      <td>1011</td>\n      <td>9645</td>\n      <td>4990</td>\n      <td>4655</td>\n      <td>800</td>\n      <td>1195</td>\n      <td>3195</td>\n      <td>2920</td>\n      <td>1540</td>\n      <td>6380</td>\n      <td>1.5</td>\n      <td>4175</td>\n      <td>1305</td>\n      <td>345</td>\n      <td>500</td>\n      <td>75</td>\n      <td>60</td>\n      <td>30</td>\n      <td>10</td>\n      <td>6110</td>\n      <td>3605</td>\n      <td>115</td>\n      <td>115</td>\n      <td>800</td>\n      <td>390</td>\n      <td>670</td>\n      <td>370</td>\n      <td>45</td>\n      <td>5915</td>\n      <td>900</td>\n      <td>2060</td>\n      <td>825</td>\n      <td>6907</td>\n      <td>1</td>\n      <td>(POLYGON ((122246.232 487910.177, 122259.064 4...</td>\n    </tr>\n    <tr>\n      <th>1</th>\n      <td>postcode42017.2</td>\n      <td>1012</td>\n      <td>8240</td>\n      <td>4480</td>\n      <td>3760</td>\n      <td>465</td>\n      <td>1195</td>\n      <td>4195</td>\n      <td>1730</td>\n      <td>650</td>\n      <td>5960</td>\n      <td>1.4</td>\n      <td>4245</td>\n      <td>1175</td>\n      <td>190</td>\n      <td>260</td>\n      <td>50</td>\n      <td>50</td>\n      <td>30</td>\n      <td>10</td>\n      <td>5695</td>\n      <td>4725</td>\n      <td>20</td>\n      <td>50</td>\n      <td>85</td>\n      <td>490</td>\n      <td>225</td>\n      <td>105</td>\n      <td>-99997</td>\n      <td>5380</td>\n      <td>1090</td>\n      <td>2150</td>\n      <td>480</td>\n      <td>8410</td>\n      <td>1</td>\n      <td>(POLYGON ((121995.0292 488243.2021, 121999.664...</td>\n    </tr>\n    <tr>\n      <th>2</th>\n      <td>postcode42017.3</td>\n      <td>1013</td>\n      <td>21080</td>\n      <td>10550</td>\n      <td>10525</td>\n      <td>2640</td>\n      <td>1860</td>\n      <td>7685</td>\n      <td>6115</td>\n      <td>2775</td>\n      <td>12580</td>\n      <td>1.7</td>\n      <td>7525</td>\n      <td>2430</td>\n      <td>1020</td>\n      <td>1510</td>\n      <td>280</td>\n      <td>60</td>\n      <td>20</td>\n      <td>20</td>\n      <td>12825</td>\n      <td>6930</td>\n      <td>75</td>\n      <td>115</td>\n      <td>1625</td>\n      <td>1475</td>\n      <td>445</td>\n      <td>2005</td>\n      <td>160</td>\n      <td>12670</td>\n      <td>920</td>\n      <td>1990</td>\n      <td>2720</td>\n      <td>6224</td>\n      <td>1</td>\n      <td>(POLYGON ((120506.2192 489494.5513, 120495.812...</td>\n    </tr>\n    <tr>\n      <th>3</th>\n      <td>postcode42017.4</td>\n      <td>1014</td>\n      <td>645</td>\n      <td>375</td>\n      <td>270</td>\n      <td>65</td>\n      <td>45</td>\n      <td>400</td>\n      <td>115</td>\n      <td>20</td>\n      <td>330</td>\n      <td>1.7</td>\n      <td>170</td>\n      <td>105</td>\n      <td>10</td>\n      <td>45</td>\n      <td>15</td>\n      <td>60</td>\n      <td>20</td>\n      <td>20</td>\n      <td>270</td>\n      <td>20</td>\n      <td>5</td>\n      <td>5</td>\n      <td>5</td>\n      <td>20</td>\n      <td>185</td>\n      <td>-99997</td>\n      <td>25</td>\n      <td>225</td>\n      <td>1000</td>\n      <td>2160</td>\n      <td>80</td>\n      <td>2645</td>\n      <td>1</td>\n      <td>(POLYGON ((120390.1126 489860.7457, 120387.401...</td>\n    </tr>\n    <tr>\n      <th>4</th>\n      <td>postcode42017.5</td>\n      <td>1015</td>\n      <td>14810</td>\n      <td>7545</td>\n      <td>7265</td>\n      <td>1410</td>\n      <td>1465</td>\n      <td>5235</td>\n      <td>4365</td>\n      <td>2340</td>\n      <td>9740</td>\n      <td>1.5</td>\n      <td>6340</td>\n      <td>1925</td>\n      <td>535</td>\n      <td>860</td>\n      <td>125</td>\n      <td>60</td>\n      <td>30</td>\n      <td>10</td>\n      <td>9865</td>\n      <td>7275</td>\n      <td>100</td>\n      <td>235</td>\n      <td>755</td>\n      <td>1075</td>\n      <td>340</td>\n      <td>80</td>\n      <td>-99997</td>\n      <td>9385</td>\n      <td>1050</td>\n      <td>1960</td>\n      <td>1395</td>\n      <td>10975</td>\n      <td>1</td>\n      <td>(POLYGON ((120665.6423 488535.5, 120668.7853 4...</td>\n    </tr>\n  </tbody>\n</table>\n</div>",
            "text/plain": "                id  postcode  aantal_inwoners  aantal_mannen  aantal_vrouwen  \\\n0  postcode42017.1      1011             9645           4990            4655   \n1  postcode42017.2      1012             8240           4480            3760   \n2  postcode42017.3      1013            21080          10550           10525   \n3  postcode42017.4      1014              645            375             270   \n4  postcode42017.5      1015            14810           7545            7265   \n\n   aantal_inwoners_0_tot_15_jaar  aantal_inwoners_15_tot_25_jaar  \\\n0                            800                            1195   \n1                            465                            1195   \n2                           2640                            1860   \n3                             65                              45   \n4                           1410                            1465   \n\n   aantal_inwoners_25_tot_45_jaar  aantal_inwoners_45_tot_65_jaar  \\\n0                            3195                            2920   \n1                            4195                            1730   \n2                            7685                            6115   \n3                             400                             115   \n4                            5235                            4365   \n\n   aantal_inwoners_65_jaar_en_ouder  aantal_part_huishoudens  \\\n0                              1540                     6380   \n1                               650                     5960   \n2                              2775                    12580   \n3                                20                      330   \n4                              2340                     9740   \n\n   gemiddelde_huishoudensgrootte  aantal_eenpersoonshuishoudens  \\\n0                            1.5                           4175   \n1                            1.4                           4245   \n2                            1.7                           7525   \n3                            1.7                            170   \n4                            1.5                           6340   \n\n   aantal_meerpersoonshuishoudens_zonder_kind  aantal_eenouderhuishoudens  \\\n0                                        1305                         345   \n1                                        1175                         190   \n2                                        2430                        1020   \n3                                         105                          10   \n4                                        1925                         535   \n\n   aantal_tweeouderhuishoudens  aantal_geboorten  percentage_autochtonen  \\\n0                          500                75                      60   \n1                          260                50                      50   \n2                         1510               280                      60   \n3                           45                15                      60   \n4                          860               125                      60   \n\n   percentage_westerse_allochtonen  percentage_niet_westerse_allochtonen  \\\n0                               30                                    10   \n1                               30                                    10   \n2                               20                                    20   \n3                               20                                    20   \n4                               30                                    10   \n\n   aantal_woningen  aantal_woningen_bouwjaar_voor_1945  \\\n0             6110                                3605   \n1             5695                                4725   \n2            12825                                6930   \n3              270                                  20   \n4             9865                                7275   \n\n   aantal_woningen_bouwjaar_45_tot_65  aantal_woningen_bouwjaar_65_tot_75  \\\n0                                 115                                 115   \n1                                  20                                  50   \n2                                  75                                 115   \n3                                   5                                   5   \n4                                 100                                 235   \n\n   aantal_woningen_bouwjaar_75_tot_85  aantal_woningen_bouwjaar_85_tot_95  \\\n0                                 800                                 390   \n1                                  85                                 490   \n2                                1625                                1475   \n3                                   5                                  20   \n4                                 755                                1075   \n\n   aantal_woningen_bouwjaar_95_tot_05  aantal_woningen_bouwjaar_05_tot_15  \\\n0                                 670                                 370   \n1                                 225                                 105   \n2                                 445                                2005   \n3                                 185                              -99997   \n4                                 340                                  80   \n\n   aantal_woningen_bouwjaar_15_en_later  aantal_meergezins_woningen  \\\n0                                    45                        5915   \n1                                -99997                        5380   \n2                                   160                       12670   \n3                                    25                         225   \n4                                -99997                        9385   \n\n   gemiddeld_gasverbruik_woning  gemiddeld_elektricteitsverbruik_woning  \\\n0                           900                                    2060   \n1                          1090                                    2150   \n2                           920                                    1990   \n3                          1000                                    2160   \n4                          1050                                    1960   \n\n   aantal_personen_met_uitkering_onder_aowlft  omgevingsadressendichtheid  \\\n0                                         825                        6907   \n1                                         480                        8410   \n2                                        2720                        6224   \n3                                          80                        2645   \n4                                        1395                       10975   \n\n   stedelijkheid                                           geometry  \n0              1  (POLYGON ((122246.232 487910.177, 122259.064 4...  \n1              1  (POLYGON ((121995.0292 488243.2021, 121999.664...  \n2              1  (POLYGON ((120506.2192 489494.5513, 120495.812...  \n3              1  (POLYGON ((120390.1126 489860.7457, 120387.401...  \n4              1  (POLYGON ((120665.6423 488535.5, 120668.7853 4...  "
          },
          "metadata": {}
        }
      ]
    },
    {
      "metadata": {},
      "cell_type": "markdown",
      "source": "This data has area bounderies geolocation data, but not the center long/lat per postal code. Found this dataset for that, which gives long/lat for all four digit postcodes.\nhttps://git.tuxm.nl/tuxmachine/postcodes/src/4329c858db24b79523fd3fbbaf2df138ccaf16cd\n\nCredit: https://git.tuxm.nl/tuxmachine/postcodes/src/master/README.md\n\nLicense: https://git.tuxm.nl/tuxmachine/postcodes/src/master/LICENSE"
    },
    {
      "metadata": {
        "trusted": true
      },
      "cell_type": "code",
      "source": "#4PP LatLong in CSV dataset for Netherlands areas in LatLong geolocation\n!wget -q -O '4pp.csv' https://git.tuxm.nl/tuxmachine/postcodes/src/master/4pp.csv\nprint('Data downloaded!')",
      "execution_count": null,
      "outputs": []
    },
    {
      "metadata": {
        "trusted": true
      },
      "cell_type": "code",
      "source": "neighlatlong = pd.read_csv('https://git.tuxm.nl/tuxmachine/postcodes/raw/master/4pp.csv')\nneighlatlong.head()",
      "execution_count": null,
      "outputs": []
    },
    {
      "metadata": {
        "trusted": true
      },
      "cell_type": "code",
      "source": "neighlatlong.shape",
      "execution_count": null,
      "outputs": []
    },
    {
      "metadata": {},
      "cell_type": "markdown",
      "source": "Drop all areas with category ('Soort') Postbus (=P.O. Box) or Onbekend (=Unkown)"
    },
    {
      "metadata": {
        "trusted": true
      },
      "cell_type": "code",
      "source": "#Drop all rows with Soort is Onbekend\nneighlatlong.drop(neighlatlong[neighlatlong.soort == 'Onbekend'].index, inplace=True)\n#Drop all rows with Soort is Postbus\nneighlatlong.drop(neighlatlong[neighlatlong.soort == 'Postbus'].index, inplace=True)\nneighlatlong.head()",
      "execution_count": null,
      "outputs": []
    },
    {
      "metadata": {
        "trusted": true
      },
      "cell_type": "code",
      "source": "neighlatlong.shape",
      "execution_count": null,
      "outputs": []
    },
    {
      "metadata": {},
      "cell_type": "markdown",
      "source": "### CBS names of areas and neighbourhoods based on postal code"
    },
    {
      "metadata": {},
      "cell_type": "markdown",
      "source": "The Dutch Central Bureau of Statistics (CBS) has an open dataset on areas and neighbourhoods based on postal code.\n\nSee: https://www.cbs.nl/nl-nl/maatwerk/2018/36/buurt-wijk-en-gemeente-2018-voor-postcode-huisnummer"
    },
    {
      "metadata": {
        "trusted": true
      },
      "cell_type": "code",
      "source": "#Download and extract ZIP file of CBS area and neighbourhood data\n!wget -q -O '2018-cbs-pc6huisnr20180801_buurt-vs2.zip' https://www.cbs.nl/-/media/_excel/2018/36/2018-cbs-pc6huisnr20180801_buurt%20-vs2.zip\nwith ZipFile('2018-cbs-pc6huisnr20180801_buurt-vs2.zip', 'r') as zipObj:\n   # Extract all the contents of zip file in current directory\n   zipObj.extractall()\nprint('Data downloaded!')",
      "execution_count": null,
      "outputs": []
    },
    {
      "metadata": {
        "trusted": true
      },
      "cell_type": "code",
      "source": "#Create dataframe on lowlevel postal code data\npc = pd.read_csv('pc6hnr20180801_gwb-vs2.csv', sep=';', encoding='latin_1')\npc.rename(columns = {'Buurt2018': 'buurtcode', 'Wijk2018': 'wijkcode', 'Gemeente2018': 'gemeentecode'}, inplace = True)\npc.head()",
      "execution_count": null,
      "outputs": []
    },
    {
      "metadata": {
        "trusted": true
      },
      "cell_type": "code",
      "source": "#Create dataframe with neighbourhood codes and names\nwijk = pd.read_csv('wijknaam2018.csv', sep=';', encoding='latin_1')\nwijk.rename(columns = {'GWBcode8': 'wijkcode', 'GWBlabel': 'wijk'}, inplace = True)\nwijk.head()",
      "execution_count": null,
      "outputs": []
    },
    {
      "metadata": {
        "trusted": true
      },
      "cell_type": "code",
      "source": "#Create dataframe with area codes and names\nbuurt = pd.read_csv('buurtnaam2018.csv', sep=';', encoding='latin_1')\nbuurt.rename(columns = {'GWBcode8': 'buurtcode', 'GWBlabel': 'buurt'}, inplace = True)\nbuurt.head()",
      "execution_count": null,
      "outputs": []
    },
    {
      "metadata": {
        "trusted": true
      },
      "cell_type": "code",
      "source": "#Merge postal code dataframe with neighbourhood and area names\npcmerge = pd.merge(pc, wijk, on='wijkcode')\npcmerge = pd.merge(pcmerge, buurt, on='buurtcode')\npcmerge.head()",
      "execution_count": null,
      "outputs": []
    },
    {
      "metadata": {
        "trusted": true
      },
      "cell_type": "code",
      "source": "#Drop columns we will not need: housenumber (too low level), Municipality (will be added by geocode data by name instead of code) and the codes\npcmerge.drop(['Huisnummer', 'buurtcode', 'wijkcode', 'gemeentecode'], axis=1, inplace = True)\npcmerge.head()",
      "execution_count": null,
      "outputs": []
    },
    {
      "metadata": {
        "trusted": true
      },
      "cell_type": "code",
      "source": "#Create column with first four digits of postal code as all six is too low level\npcmerge['postcode'] = pcmerge['PC6'].str[:4]\npcmerge.head()",
      "execution_count": null,
      "outputs": []
    },
    {
      "metadata": {
        "trusted": true
      },
      "cell_type": "code",
      "source": "#Drop PC6 and group on postcode\npostcode = pcmerge.groupby(['postcode'], as_index=False).first()\npostcode.drop(['PC6'], axis=1, inplace = True)\npostcode.head()",
      "execution_count": null,
      "outputs": []
    },
    {
      "metadata": {
        "trusted": true
      },
      "cell_type": "code",
      "source": "#Cast column postcode to INT instead of OBJECT as geolocation dataset has INT\npostcode.postcode = postcode.postcode.astype('int64')",
      "execution_count": null,
      "outputs": []
    },
    {
      "metadata": {
        "trusted": true
      },
      "cell_type": "code",
      "source": "#Now merge with long/lat\npostcode = pd.merge(postcode, neighlatlong, on='postcode')\npostcode.head()",
      "execution_count": null,
      "outputs": []
    },
    {
      "metadata": {
        "trusted": true
      },
      "cell_type": "code",
      "source": "#Drop unneeded columns\npostcode.drop(['id', 'alternatieve_schrijfwijzen', 'soort'], axis=1, inplace = True)\npostcode.head()",
      "execution_count": null,
      "outputs": []
    },
    {
      "metadata": {
        "trusted": true
      },
      "cell_type": "code",
      "source": "postcode.shape",
      "execution_count": null,
      "outputs": []
    },
    {
      "metadata": {},
      "cell_type": "markdown",
      "source": "### Show neighbourhoods on map for the cities of Amsterdam, Rotterdam, The Hague and Utrecht"
    },
    {
      "metadata": {
        "trusted": true
      },
      "cell_type": "code",
      "source": "# Obtain latitude and longitude of the Netherlands\ng = geocoder.arcgis('Utrecht, Netherlands')\nUtrecht_coords = g.latlng\nprint(\"Utrecht\", Utrecht_coords)\ng = geocoder.arcgis('Amsterdam, Netherlands')\namsterdam_coords = g.latlng\nprint(\"Amsterdam\", amsterdam_coords)\ng = geocoder.arcgis('Rotterdam, Netherlands')\nrotterdam_coords = g.latlng\nprint(\"Rotterdam\", rotterdam_coords)\ng = geocoder.arcgis('Den Haag, Netherlands')\ndenhaag_coords = g.latlng\nprint(\"The Hague\", denhaag_coords)",
      "execution_count": null,
      "outputs": []
    },
    {
      "metadata": {
        "trusted": true
      },
      "cell_type": "code",
      "source": "#Extract only woonplaats is Utrecht\nutrecht = postcode[postcode.woonplaats.str.contains('utrecht',case=False)]\nutrecht.head()",
      "execution_count": null,
      "outputs": []
    },
    {
      "metadata": {
        "trusted": true
      },
      "cell_type": "code",
      "source": "#Extract only woonplaats is Amsterdam\namsterdam = postcode[postcode.woonplaats.str.contains('amsterdam',case=False)]\namsterdam.head()",
      "execution_count": null,
      "outputs": []
    },
    {
      "metadata": {
        "trusted": true
      },
      "cell_type": "code",
      "source": "#Extract only woonplaats is The Hague\ndenhaag = postcode[postcode.woonplaats.str.contains('den haag',case=False)]\ndenhaag.head()",
      "execution_count": null,
      "outputs": []
    },
    {
      "metadata": {
        "trusted": true
      },
      "cell_type": "code",
      "source": "#Extract only woonplaats is Rotterdam\nrotterdam = postcode[postcode.woonplaats.str.contains('rotterdam',case=False)]\nrotterdam.head()",
      "execution_count": null,
      "outputs": []
    },
    {
      "metadata": {
        "scrolled": false,
        "trusted": true
      },
      "cell_type": "code",
      "source": "#Create map of Utrecht with neighbourhoods marked\nmap_utrecht = folium.Map(location=[Utrecht_coords[0], Utrecht_coords[1]], zoom_start=13)\n\n# add markers to map\nfor lat, lng, borough, neighborhood in zip(utrecht['latitude'], utrecht['longitude'], utrecht['wijk'], utrecht['buurt']):\n    label = '{}, {}'.format(neighborhood, borough)\n    label = folium.Popup(label, parse_html=True)\n    folium.CircleMarker(\n        [lat, lng],\n        radius=5,\n        popup=label,\n        color='blue',\n        fill=True,\n        fill_color='#3186cc',\n        fill_opacity=0.7,\n        parse_html=False).add_to(map_utrecht)  \n    \nmap_utrecht",
      "execution_count": null,
      "outputs": []
    },
    {
      "metadata": {
        "trusted": true
      },
      "cell_type": "code",
      "source": "#Create map of Amsterdam with neighbourhoods marked\nmap_amsterdam = folium.Map(location=[amsterdam_coords[0], amsterdam_coords[1]], zoom_start=13)\n\n# add markers to map\nfor lat, lng, borough, neighborhood in zip(amsterdam['latitude'], amsterdam['longitude'], amsterdam['wijk'], amsterdam['buurt']):\n    label = '{}, {}'.format(neighborhood, borough)\n    label = folium.Popup(label, parse_html=True)\n    folium.CircleMarker(\n        [lat, lng],\n        radius=5,\n        popup=label,\n        color='blue',\n        fill=True,\n        fill_color='#3186cc',\n        fill_opacity=0.7,\n        parse_html=False).add_to(map_amsterdam)  \n    \nmap_amsterdam",
      "execution_count": null,
      "outputs": []
    },
    {
      "metadata": {
        "trusted": true
      },
      "cell_type": "code",
      "source": "#Create map of Den Haag with neighbourhoods marked\nmap_denhaag = folium.Map(location=[denhaag_coords[0], denhaag_coords[1]], zoom_start=13)\n\n# add markers to map\nfor lat, lng, borough, neighborhood in zip(denhaag['latitude'], denhaag['longitude'], denhaag['wijk'], denhaag['buurt']):\n    label = '{}, {}'.format(neighborhood, borough)\n    label = folium.Popup(label, parse_html=True)\n    folium.CircleMarker(\n        [lat, lng],\n        radius=5,\n        popup=label,\n        color='blue',\n        fill=True,\n        fill_color='#3186cc',\n        fill_opacity=0.7,\n        parse_html=False).add_to(map_denhaag)  \n    \nmap_denhaag",
      "execution_count": null,
      "outputs": []
    },
    {
      "metadata": {
        "trusted": true
      },
      "cell_type": "code",
      "source": "#Create map of Rotterdam with neighbourhoods marked\nmap_rotterdam = folium.Map(location=[rotterdam_coords[0], rotterdam_coords[1]], zoom_start=13)\n\n# add markers to map\nfor lat, lng, borough, neighborhood in zip(rotterdam['latitude'], rotterdam['longitude'], rotterdam['wijk'], rotterdam['buurt']):\n    label = '{}, {}'.format(neighborhood, borough)\n    label = folium.Popup(label, parse_html=True)\n    folium.CircleMarker(\n        [lat, lng],\n        radius=5,\n        popup=label,\n        color='blue',\n        fill=True,\n        fill_color='#3186cc',\n        fill_opacity=0.7,\n        parse_html=False).add_to(map_rotterdam)  \n    \nmap_rotterdam",
      "execution_count": null,
      "outputs": []
    },
    {
      "metadata": {
        "trusted": true
      },
      "cell_type": "code",
      "source": "",
      "execution_count": null,
      "outputs": []
    }
  ],
  "metadata": {
    "kernelspec": {
      "name": "python3",
      "display_name": "Python 3",
      "language": "python"
    },
    "language_info": {
      "mimetype": "text/x-python",
      "nbconvert_exporter": "python",
      "name": "python",
      "pygments_lexer": "ipython3",
      "version": "3.5.4",
      "file_extension": ".py",
      "codemirror_mode": {
        "version": 3,
        "name": "ipython"
      }
    }
  },
  "nbformat": 4,
  "nbformat_minor": 1
}